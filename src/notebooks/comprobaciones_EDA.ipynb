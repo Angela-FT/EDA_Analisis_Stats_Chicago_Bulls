{
 "cells": [
  {
   "cell_type": "code",
   "execution_count": null,
   "metadata": {},
   "outputs": [],
   "source": [
    "#Checkear los equipos que faltan en el gráfico de comparativa rebotes y robos.\n",
    "missing_teams = medias_s_b[medias_s_b['Rank'].isnull()]\n",
    "print(\"Teams with missing ranks:\", missing_teams['Tm'].tolist())"
   ]
  },
  {
   "cell_type": "code",
   "execution_count": null,
   "metadata": {},
   "outputs": [],
   "source": [
    "#Checkear por segunda vez qué equipos faltan\n",
    "# Checkear qué equipos están presentes en el dataset\n",
    "teams_in_data = medias_s_b['Tm'].unique()\n",
    "all_eastern_teams = ['BOS', 'NYK', 'MIL', 'CLE', 'ORL', 'IND', 'PHI', 'MIA', \n",
    "                     'CHI', 'ATL', 'BKN', 'TOR', 'CHA', 'WAS', 'DET']\n",
    "\n",
    "# Encontrar los equipos que faltan\n",
    "missing_teams = set(all_eastern_teams) - set(teams_in_data)\n",
    "print(\"Missing teams:\", missing_teams)"
   ]
  },
  {
   "cell_type": "code",
   "execution_count": null,
   "metadata": {},
   "outputs": [],
   "source": [
    "# DF para encontrar los equipos que faltan\n",
    "missing_df = pd.DataFrame({'Tm': list(missing_teams), 'STL': [None] * len(missing_teams), 'BLK': [None] * len(missing_teams)})\n",
    "missing_df['Team_Type'] = 'Eastern Conference'\n",
    "missing_df['Rank'] = missing_df['Tm'].map(eastern_conference_rankings)\n",
    "missing_df['Size'] = 300 / missing_df['Rank']\n",
    "\n",
    "# Hacer append de los missing teams a las medias.\n",
    "medias_s_b = pd.concat([medias_s_b, missing_df], ignore_index=True)"
   ]
  },
  {
   "cell_type": "code",
   "execution_count": null,
   "metadata": {},
   "outputs": [],
   "source": [
    "# Checkear los recuentos después del grouping.\n",
    "print(\"Teams in DataFrame:\", medias_s_b['Tm'].nunique())\n",
    "print(\"Teams List:\", medias_s_b['Tm'].unique())"
   ]
  },
  {
   "cell_type": "code",
   "execution_count": null,
   "metadata": {},
   "outputs": [],
   "source": [
    "print(\"Teams in eastern_df:\", eastern_df['Tm'].nunique())\n",
    "print(\"Teams List in eastern_df:\", eastern_df['Tm'].unique())"
   ]
  }
 ],
 "metadata": {
  "language_info": {
   "name": "python"
  }
 },
 "nbformat": 4,
 "nbformat_minor": 2
}
